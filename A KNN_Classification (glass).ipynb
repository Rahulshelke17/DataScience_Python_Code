{
  "nbformat": 4,
  "nbformat_minor": 0,
  "metadata": {
    "colab": {
      "provenance": []
    },
    "kernelspec": {
      "name": "python3",
      "display_name": "Python 3"
    },
    "language_info": {
      "name": "python"
    }
  },
  "cells": [
    {
      "cell_type": "code",
      "execution_count": 2,
      "metadata": {
        "id": "69kv7eC4IZib"
      },
      "outputs": [],
      "source": [
        "# KNN Classification\n",
        "import pandas as pd\n",
        "from pandas import read_csv\n",
        "import numpy as np\n",
        "import seaborn as sns\n",
        "import matplotlib.pyplot as plt\n",
        "from sklearn.model_selection import KFold\n",
        "from sklearn.model_selection import cross_val_score\n",
        "from sklearn.neighbors import KNeighborsClassifier"
      ]
    },
    {
      "cell_type": "code",
      "source": [
        "# Import additional required libraries\n",
        "from sklearn.model_selection import train_test_split\n",
        "from sklearn import metrics\n",
        "from sklearn.model_selection import *\n",
        "from sklearn.metrics import confusion_matrix,classification_report, accuracy_score\n",
        "from sklearn.model_selection import cross_val_score\n",
        "sns.set()"
      ],
      "metadata": {
        "id": "Insuf8uVIsKG"
      },
      "execution_count": 3,
      "outputs": []
    },
    {
      "cell_type": "code",
      "source": [
        "from sklearn.neighbors import KNeighborsClassifier\n",
        "from sklearn.metrics import confusion_matrix\n",
        "from sklearn.model_selection import train_test_split\n",
        "from sklearn.metrics import accuracy_score\n",
        "from sklearn.model_selection import cross_val_score"
      ],
      "metadata": {
        "id": "lRLbXPNhJpwu"
      },
      "execution_count": 5,
      "outputs": []
    },
    {
      "cell_type": "markdown",
      "source": [
        "# Importing the dataset"
      ],
      "metadata": {
        "id": "Eb-RPuDiJ56i"
      }
    },
    {
      "cell_type": "code",
      "source": [
        "glass = read_csv('/content/glass.csv')"
      ],
      "metadata": {
        "id": "PhH_tMi0JtrF"
      },
      "execution_count": 6,
      "outputs": []
    },
    {
      "cell_type": "code",
      "source": [
        "glass"
      ],
      "metadata": {
        "colab": {
          "base_uri": "https://localhost:8080/",
          "height": 424
        },
        "id": "a2pKTuRFKIhj",
        "outputId": "f6d00c45-17bb-4183-9519-6dd88da8de75"
      },
      "execution_count": 7,
      "outputs": [
        {
          "output_type": "execute_result",
          "data": {
            "text/plain": [
              "          RI     Na    Mg    Al     Si     K    Ca    Ba   Fe  Type\n",
              "0    1.52101  13.64  4.49  1.10  71.78  0.06  8.75  0.00  0.0     1\n",
              "1    1.51761  13.89  3.60  1.36  72.73  0.48  7.83  0.00  0.0     1\n",
              "2    1.51618  13.53  3.55  1.54  72.99  0.39  7.78  0.00  0.0     1\n",
              "3    1.51766  13.21  3.69  1.29  72.61  0.57  8.22  0.00  0.0     1\n",
              "4    1.51742  13.27  3.62  1.24  73.08  0.55  8.07  0.00  0.0     1\n",
              "..       ...    ...   ...   ...    ...   ...   ...   ...  ...   ...\n",
              "209  1.51623  14.14  0.00  2.88  72.61  0.08  9.18  1.06  0.0     7\n",
              "210  1.51685  14.92  0.00  1.99  73.06  0.00  8.40  1.59  0.0     7\n",
              "211  1.52065  14.36  0.00  2.02  73.42  0.00  8.44  1.64  0.0     7\n",
              "212  1.51651  14.38  0.00  1.94  73.61  0.00  8.48  1.57  0.0     7\n",
              "213  1.51711  14.23  0.00  2.08  73.36  0.00  8.62  1.67  0.0     7\n",
              "\n",
              "[214 rows x 10 columns]"
            ],
            "text/html": [
              "\n",
              "  <div id=\"df-4c287fc4-fc27-4148-9fd3-5b31ccc57960\">\n",
              "    <div class=\"colab-df-container\">\n",
              "      <div>\n",
              "<style scoped>\n",
              "    .dataframe tbody tr th:only-of-type {\n",
              "        vertical-align: middle;\n",
              "    }\n",
              "\n",
              "    .dataframe tbody tr th {\n",
              "        vertical-align: top;\n",
              "    }\n",
              "\n",
              "    .dataframe thead th {\n",
              "        text-align: right;\n",
              "    }\n",
              "</style>\n",
              "<table border=\"1\" class=\"dataframe\">\n",
              "  <thead>\n",
              "    <tr style=\"text-align: right;\">\n",
              "      <th></th>\n",
              "      <th>RI</th>\n",
              "      <th>Na</th>\n",
              "      <th>Mg</th>\n",
              "      <th>Al</th>\n",
              "      <th>Si</th>\n",
              "      <th>K</th>\n",
              "      <th>Ca</th>\n",
              "      <th>Ba</th>\n",
              "      <th>Fe</th>\n",
              "      <th>Type</th>\n",
              "    </tr>\n",
              "  </thead>\n",
              "  <tbody>\n",
              "    <tr>\n",
              "      <th>0</th>\n",
              "      <td>1.52101</td>\n",
              "      <td>13.64</td>\n",
              "      <td>4.49</td>\n",
              "      <td>1.10</td>\n",
              "      <td>71.78</td>\n",
              "      <td>0.06</td>\n",
              "      <td>8.75</td>\n",
              "      <td>0.00</td>\n",
              "      <td>0.0</td>\n",
              "      <td>1</td>\n",
              "    </tr>\n",
              "    <tr>\n",
              "      <th>1</th>\n",
              "      <td>1.51761</td>\n",
              "      <td>13.89</td>\n",
              "      <td>3.60</td>\n",
              "      <td>1.36</td>\n",
              "      <td>72.73</td>\n",
              "      <td>0.48</td>\n",
              "      <td>7.83</td>\n",
              "      <td>0.00</td>\n",
              "      <td>0.0</td>\n",
              "      <td>1</td>\n",
              "    </tr>\n",
              "    <tr>\n",
              "      <th>2</th>\n",
              "      <td>1.51618</td>\n",
              "      <td>13.53</td>\n",
              "      <td>3.55</td>\n",
              "      <td>1.54</td>\n",
              "      <td>72.99</td>\n",
              "      <td>0.39</td>\n",
              "      <td>7.78</td>\n",
              "      <td>0.00</td>\n",
              "      <td>0.0</td>\n",
              "      <td>1</td>\n",
              "    </tr>\n",
              "    <tr>\n",
              "      <th>3</th>\n",
              "      <td>1.51766</td>\n",
              "      <td>13.21</td>\n",
              "      <td>3.69</td>\n",
              "      <td>1.29</td>\n",
              "      <td>72.61</td>\n",
              "      <td>0.57</td>\n",
              "      <td>8.22</td>\n",
              "      <td>0.00</td>\n",
              "      <td>0.0</td>\n",
              "      <td>1</td>\n",
              "    </tr>\n",
              "    <tr>\n",
              "      <th>4</th>\n",
              "      <td>1.51742</td>\n",
              "      <td>13.27</td>\n",
              "      <td>3.62</td>\n",
              "      <td>1.24</td>\n",
              "      <td>73.08</td>\n",
              "      <td>0.55</td>\n",
              "      <td>8.07</td>\n",
              "      <td>0.00</td>\n",
              "      <td>0.0</td>\n",
              "      <td>1</td>\n",
              "    </tr>\n",
              "    <tr>\n",
              "      <th>...</th>\n",
              "      <td>...</td>\n",
              "      <td>...</td>\n",
              "      <td>...</td>\n",
              "      <td>...</td>\n",
              "      <td>...</td>\n",
              "      <td>...</td>\n",
              "      <td>...</td>\n",
              "      <td>...</td>\n",
              "      <td>...</td>\n",
              "      <td>...</td>\n",
              "    </tr>\n",
              "    <tr>\n",
              "      <th>209</th>\n",
              "      <td>1.51623</td>\n",
              "      <td>14.14</td>\n",
              "      <td>0.00</td>\n",
              "      <td>2.88</td>\n",
              "      <td>72.61</td>\n",
              "      <td>0.08</td>\n",
              "      <td>9.18</td>\n",
              "      <td>1.06</td>\n",
              "      <td>0.0</td>\n",
              "      <td>7</td>\n",
              "    </tr>\n",
              "    <tr>\n",
              "      <th>210</th>\n",
              "      <td>1.51685</td>\n",
              "      <td>14.92</td>\n",
              "      <td>0.00</td>\n",
              "      <td>1.99</td>\n",
              "      <td>73.06</td>\n",
              "      <td>0.00</td>\n",
              "      <td>8.40</td>\n",
              "      <td>1.59</td>\n",
              "      <td>0.0</td>\n",
              "      <td>7</td>\n",
              "    </tr>\n",
              "    <tr>\n",
              "      <th>211</th>\n",
              "      <td>1.52065</td>\n",
              "      <td>14.36</td>\n",
              "      <td>0.00</td>\n",
              "      <td>2.02</td>\n",
              "      <td>73.42</td>\n",
              "      <td>0.00</td>\n",
              "      <td>8.44</td>\n",
              "      <td>1.64</td>\n",
              "      <td>0.0</td>\n",
              "      <td>7</td>\n",
              "    </tr>\n",
              "    <tr>\n",
              "      <th>212</th>\n",
              "      <td>1.51651</td>\n",
              "      <td>14.38</td>\n",
              "      <td>0.00</td>\n",
              "      <td>1.94</td>\n",
              "      <td>73.61</td>\n",
              "      <td>0.00</td>\n",
              "      <td>8.48</td>\n",
              "      <td>1.57</td>\n",
              "      <td>0.0</td>\n",
              "      <td>7</td>\n",
              "    </tr>\n",
              "    <tr>\n",
              "      <th>213</th>\n",
              "      <td>1.51711</td>\n",
              "      <td>14.23</td>\n",
              "      <td>0.00</td>\n",
              "      <td>2.08</td>\n",
              "      <td>73.36</td>\n",
              "      <td>0.00</td>\n",
              "      <td>8.62</td>\n",
              "      <td>1.67</td>\n",
              "      <td>0.0</td>\n",
              "      <td>7</td>\n",
              "    </tr>\n",
              "  </tbody>\n",
              "</table>\n",
              "<p>214 rows × 10 columns</p>\n",
              "</div>\n",
              "      <button class=\"colab-df-convert\" onclick=\"convertToInteractive('df-4c287fc4-fc27-4148-9fd3-5b31ccc57960')\"\n",
              "              title=\"Convert this dataframe to an interactive table.\"\n",
              "              style=\"display:none;\">\n",
              "        \n",
              "  <svg xmlns=\"http://www.w3.org/2000/svg\" height=\"24px\"viewBox=\"0 0 24 24\"\n",
              "       width=\"24px\">\n",
              "    <path d=\"M0 0h24v24H0V0z\" fill=\"none\"/>\n",
              "    <path d=\"M18.56 5.44l.94 2.06.94-2.06 2.06-.94-2.06-.94-.94-2.06-.94 2.06-2.06.94zm-11 1L8.5 8.5l.94-2.06 2.06-.94-2.06-.94L8.5 2.5l-.94 2.06-2.06.94zm10 10l.94 2.06.94-2.06 2.06-.94-2.06-.94-.94-2.06-.94 2.06-2.06.94z\"/><path d=\"M17.41 7.96l-1.37-1.37c-.4-.4-.92-.59-1.43-.59-.52 0-1.04.2-1.43.59L10.3 9.45l-7.72 7.72c-.78.78-.78 2.05 0 2.83L4 21.41c.39.39.9.59 1.41.59.51 0 1.02-.2 1.41-.59l7.78-7.78 2.81-2.81c.8-.78.8-2.07 0-2.86zM5.41 20L4 18.59l7.72-7.72 1.47 1.35L5.41 20z\"/>\n",
              "  </svg>\n",
              "      </button>\n",
              "      \n",
              "  <style>\n",
              "    .colab-df-container {\n",
              "      display:flex;\n",
              "      flex-wrap:wrap;\n",
              "      gap: 12px;\n",
              "    }\n",
              "\n",
              "    .colab-df-convert {\n",
              "      background-color: #E8F0FE;\n",
              "      border: none;\n",
              "      border-radius: 50%;\n",
              "      cursor: pointer;\n",
              "      display: none;\n",
              "      fill: #1967D2;\n",
              "      height: 32px;\n",
              "      padding: 0 0 0 0;\n",
              "      width: 32px;\n",
              "    }\n",
              "\n",
              "    .colab-df-convert:hover {\n",
              "      background-color: #E2EBFA;\n",
              "      box-shadow: 0px 1px 2px rgba(60, 64, 67, 0.3), 0px 1px 3px 1px rgba(60, 64, 67, 0.15);\n",
              "      fill: #174EA6;\n",
              "    }\n",
              "\n",
              "    [theme=dark] .colab-df-convert {\n",
              "      background-color: #3B4455;\n",
              "      fill: #D2E3FC;\n",
              "    }\n",
              "\n",
              "    [theme=dark] .colab-df-convert:hover {\n",
              "      background-color: #434B5C;\n",
              "      box-shadow: 0px 1px 3px 1px rgba(0, 0, 0, 0.15);\n",
              "      filter: drop-shadow(0px 1px 2px rgba(0, 0, 0, 0.3));\n",
              "      fill: #FFFFFF;\n",
              "    }\n",
              "  </style>\n",
              "\n",
              "      <script>\n",
              "        const buttonEl =\n",
              "          document.querySelector('#df-4c287fc4-fc27-4148-9fd3-5b31ccc57960 button.colab-df-convert');\n",
              "        buttonEl.style.display =\n",
              "          google.colab.kernel.accessAllowed ? 'block' : 'none';\n",
              "\n",
              "        async function convertToInteractive(key) {\n",
              "          const element = document.querySelector('#df-4c287fc4-fc27-4148-9fd3-5b31ccc57960');\n",
              "          const dataTable =\n",
              "            await google.colab.kernel.invokeFunction('convertToInteractive',\n",
              "                                                     [key], {});\n",
              "          if (!dataTable) return;\n",
              "\n",
              "          const docLinkHtml = 'Like what you see? Visit the ' +\n",
              "            '<a target=\"_blank\" href=https://colab.research.google.com/notebooks/data_table.ipynb>data table notebook</a>'\n",
              "            + ' to learn more about interactive tables.';\n",
              "          element.innerHTML = '';\n",
              "          dataTable['output_type'] = 'display_data';\n",
              "          await google.colab.output.renderOutput(dataTable, element);\n",
              "          const docLink = document.createElement('div');\n",
              "          docLink.innerHTML = docLinkHtml;\n",
              "          element.appendChild(docLink);\n",
              "        }\n",
              "      </script>\n",
              "    </div>\n",
              "  </div>\n",
              "  "
            ]
          },
          "metadata": {},
          "execution_count": 7
        }
      ]
    },
    {
      "cell_type": "code",
      "source": [
        "glass.head()"
      ],
      "metadata": {
        "colab": {
          "base_uri": "https://localhost:8080/",
          "height": 206
        },
        "id": "zuUEHROVKJ1b",
        "outputId": "2e2e47a0-ebdb-43fd-bcde-96a2a6a8be86"
      },
      "execution_count": 8,
      "outputs": [
        {
          "output_type": "execute_result",
          "data": {
            "text/plain": [
              "        RI     Na    Mg    Al     Si     K    Ca   Ba   Fe  Type\n",
              "0  1.52101  13.64  4.49  1.10  71.78  0.06  8.75  0.0  0.0     1\n",
              "1  1.51761  13.89  3.60  1.36  72.73  0.48  7.83  0.0  0.0     1\n",
              "2  1.51618  13.53  3.55  1.54  72.99  0.39  7.78  0.0  0.0     1\n",
              "3  1.51766  13.21  3.69  1.29  72.61  0.57  8.22  0.0  0.0     1\n",
              "4  1.51742  13.27  3.62  1.24  73.08  0.55  8.07  0.0  0.0     1"
            ],
            "text/html": [
              "\n",
              "  <div id=\"df-369e1101-ab99-45c1-bdfb-24e33763c135\">\n",
              "    <div class=\"colab-df-container\">\n",
              "      <div>\n",
              "<style scoped>\n",
              "    .dataframe tbody tr th:only-of-type {\n",
              "        vertical-align: middle;\n",
              "    }\n",
              "\n",
              "    .dataframe tbody tr th {\n",
              "        vertical-align: top;\n",
              "    }\n",
              "\n",
              "    .dataframe thead th {\n",
              "        text-align: right;\n",
              "    }\n",
              "</style>\n",
              "<table border=\"1\" class=\"dataframe\">\n",
              "  <thead>\n",
              "    <tr style=\"text-align: right;\">\n",
              "      <th></th>\n",
              "      <th>RI</th>\n",
              "      <th>Na</th>\n",
              "      <th>Mg</th>\n",
              "      <th>Al</th>\n",
              "      <th>Si</th>\n",
              "      <th>K</th>\n",
              "      <th>Ca</th>\n",
              "      <th>Ba</th>\n",
              "      <th>Fe</th>\n",
              "      <th>Type</th>\n",
              "    </tr>\n",
              "  </thead>\n",
              "  <tbody>\n",
              "    <tr>\n",
              "      <th>0</th>\n",
              "      <td>1.52101</td>\n",
              "      <td>13.64</td>\n",
              "      <td>4.49</td>\n",
              "      <td>1.10</td>\n",
              "      <td>71.78</td>\n",
              "      <td>0.06</td>\n",
              "      <td>8.75</td>\n",
              "      <td>0.0</td>\n",
              "      <td>0.0</td>\n",
              "      <td>1</td>\n",
              "    </tr>\n",
              "    <tr>\n",
              "      <th>1</th>\n",
              "      <td>1.51761</td>\n",
              "      <td>13.89</td>\n",
              "      <td>3.60</td>\n",
              "      <td>1.36</td>\n",
              "      <td>72.73</td>\n",
              "      <td>0.48</td>\n",
              "      <td>7.83</td>\n",
              "      <td>0.0</td>\n",
              "      <td>0.0</td>\n",
              "      <td>1</td>\n",
              "    </tr>\n",
              "    <tr>\n",
              "      <th>2</th>\n",
              "      <td>1.51618</td>\n",
              "      <td>13.53</td>\n",
              "      <td>3.55</td>\n",
              "      <td>1.54</td>\n",
              "      <td>72.99</td>\n",
              "      <td>0.39</td>\n",
              "      <td>7.78</td>\n",
              "      <td>0.0</td>\n",
              "      <td>0.0</td>\n",
              "      <td>1</td>\n",
              "    </tr>\n",
              "    <tr>\n",
              "      <th>3</th>\n",
              "      <td>1.51766</td>\n",
              "      <td>13.21</td>\n",
              "      <td>3.69</td>\n",
              "      <td>1.29</td>\n",
              "      <td>72.61</td>\n",
              "      <td>0.57</td>\n",
              "      <td>8.22</td>\n",
              "      <td>0.0</td>\n",
              "      <td>0.0</td>\n",
              "      <td>1</td>\n",
              "    </tr>\n",
              "    <tr>\n",
              "      <th>4</th>\n",
              "      <td>1.51742</td>\n",
              "      <td>13.27</td>\n",
              "      <td>3.62</td>\n",
              "      <td>1.24</td>\n",
              "      <td>73.08</td>\n",
              "      <td>0.55</td>\n",
              "      <td>8.07</td>\n",
              "      <td>0.0</td>\n",
              "      <td>0.0</td>\n",
              "      <td>1</td>\n",
              "    </tr>\n",
              "  </tbody>\n",
              "</table>\n",
              "</div>\n",
              "      <button class=\"colab-df-convert\" onclick=\"convertToInteractive('df-369e1101-ab99-45c1-bdfb-24e33763c135')\"\n",
              "              title=\"Convert this dataframe to an interactive table.\"\n",
              "              style=\"display:none;\">\n",
              "        \n",
              "  <svg xmlns=\"http://www.w3.org/2000/svg\" height=\"24px\"viewBox=\"0 0 24 24\"\n",
              "       width=\"24px\">\n",
              "    <path d=\"M0 0h24v24H0V0z\" fill=\"none\"/>\n",
              "    <path d=\"M18.56 5.44l.94 2.06.94-2.06 2.06-.94-2.06-.94-.94-2.06-.94 2.06-2.06.94zm-11 1L8.5 8.5l.94-2.06 2.06-.94-2.06-.94L8.5 2.5l-.94 2.06-2.06.94zm10 10l.94 2.06.94-2.06 2.06-.94-2.06-.94-.94-2.06-.94 2.06-2.06.94z\"/><path d=\"M17.41 7.96l-1.37-1.37c-.4-.4-.92-.59-1.43-.59-.52 0-1.04.2-1.43.59L10.3 9.45l-7.72 7.72c-.78.78-.78 2.05 0 2.83L4 21.41c.39.39.9.59 1.41.59.51 0 1.02-.2 1.41-.59l7.78-7.78 2.81-2.81c.8-.78.8-2.07 0-2.86zM5.41 20L4 18.59l7.72-7.72 1.47 1.35L5.41 20z\"/>\n",
              "  </svg>\n",
              "      </button>\n",
              "      \n",
              "  <style>\n",
              "    .colab-df-container {\n",
              "      display:flex;\n",
              "      flex-wrap:wrap;\n",
              "      gap: 12px;\n",
              "    }\n",
              "\n",
              "    .colab-df-convert {\n",
              "      background-color: #E8F0FE;\n",
              "      border: none;\n",
              "      border-radius: 50%;\n",
              "      cursor: pointer;\n",
              "      display: none;\n",
              "      fill: #1967D2;\n",
              "      height: 32px;\n",
              "      padding: 0 0 0 0;\n",
              "      width: 32px;\n",
              "    }\n",
              "\n",
              "    .colab-df-convert:hover {\n",
              "      background-color: #E2EBFA;\n",
              "      box-shadow: 0px 1px 2px rgba(60, 64, 67, 0.3), 0px 1px 3px 1px rgba(60, 64, 67, 0.15);\n",
              "      fill: #174EA6;\n",
              "    }\n",
              "\n",
              "    [theme=dark] .colab-df-convert {\n",
              "      background-color: #3B4455;\n",
              "      fill: #D2E3FC;\n",
              "    }\n",
              "\n",
              "    [theme=dark] .colab-df-convert:hover {\n",
              "      background-color: #434B5C;\n",
              "      box-shadow: 0px 1px 3px 1px rgba(0, 0, 0, 0.15);\n",
              "      filter: drop-shadow(0px 1px 2px rgba(0, 0, 0, 0.3));\n",
              "      fill: #FFFFFF;\n",
              "    }\n",
              "  </style>\n",
              "\n",
              "      <script>\n",
              "        const buttonEl =\n",
              "          document.querySelector('#df-369e1101-ab99-45c1-bdfb-24e33763c135 button.colab-df-convert');\n",
              "        buttonEl.style.display =\n",
              "          google.colab.kernel.accessAllowed ? 'block' : 'none';\n",
              "\n",
              "        async function convertToInteractive(key) {\n",
              "          const element = document.querySelector('#df-369e1101-ab99-45c1-bdfb-24e33763c135');\n",
              "          const dataTable =\n",
              "            await google.colab.kernel.invokeFunction('convertToInteractive',\n",
              "                                                     [key], {});\n",
              "          if (!dataTable) return;\n",
              "\n",
              "          const docLinkHtml = 'Like what you see? Visit the ' +\n",
              "            '<a target=\"_blank\" href=https://colab.research.google.com/notebooks/data_table.ipynb>data table notebook</a>'\n",
              "            + ' to learn more about interactive tables.';\n",
              "          element.innerHTML = '';\n",
              "          dataTable['output_type'] = 'display_data';\n",
              "          await google.colab.output.renderOutput(dataTable, element);\n",
              "          const docLink = document.createElement('div');\n",
              "          docLink.innerHTML = docLinkHtml;\n",
              "          element.appendChild(docLink);\n",
              "        }\n",
              "      </script>\n",
              "    </div>\n",
              "  </div>\n",
              "  "
            ]
          },
          "metadata": {},
          "execution_count": 8
        }
      ]
    },
    {
      "cell_type": "code",
      "source": [
        "glass.isnull().any()"
      ],
      "metadata": {
        "colab": {
          "base_uri": "https://localhost:8080/"
        },
        "id": "O-JAaZxuK1M6",
        "outputId": "b7f706e7-c244-4b1c-9576-e5b485559988"
      },
      "execution_count": 11,
      "outputs": [
        {
          "output_type": "execute_result",
          "data": {
            "text/plain": [
              "RI      False\n",
              "Na      False\n",
              "Mg      False\n",
              "Al      False\n",
              "Si      False\n",
              "K       False\n",
              "Ca      False\n",
              "Ba      False\n",
              "Fe      False\n",
              "Type    False\n",
              "dtype: bool"
            ]
          },
          "metadata": {},
          "execution_count": 11
        }
      ]
    },
    {
      "cell_type": "code",
      "source": [
        "glass.info()"
      ],
      "metadata": {
        "colab": {
          "base_uri": "https://localhost:8080/"
        },
        "id": "2m9NIIyjK3Yi",
        "outputId": "489107ff-d55b-4dea-ca53-1f78d0b3cfee"
      },
      "execution_count": 12,
      "outputs": [
        {
          "output_type": "stream",
          "name": "stdout",
          "text": [
            "<class 'pandas.core.frame.DataFrame'>\n",
            "RangeIndex: 214 entries, 0 to 213\n",
            "Data columns (total 10 columns):\n",
            " #   Column  Non-Null Count  Dtype  \n",
            "---  ------  --------------  -----  \n",
            " 0   RI      214 non-null    float64\n",
            " 1   Na      214 non-null    float64\n",
            " 2   Mg      214 non-null    float64\n",
            " 3   Al      214 non-null    float64\n",
            " 4   Si      214 non-null    float64\n",
            " 5   K       214 non-null    float64\n",
            " 6   Ca      214 non-null    float64\n",
            " 7   Ba      214 non-null    float64\n",
            " 8   Fe      214 non-null    float64\n",
            " 9   Type    214 non-null    int64  \n",
            "dtypes: float64(9), int64(1)\n",
            "memory usage: 16.8 KB\n"
          ]
        }
      ]
    },
    {
      "cell_type": "code",
      "source": [
        "glass.describe()"
      ],
      "metadata": {
        "colab": {
          "base_uri": "https://localhost:8080/",
          "height": 300
        },
        "id": "GvMVRUaaMXsv",
        "outputId": "6936f044-c89b-4fed-c27c-63a4a859daaf"
      },
      "execution_count": 13,
      "outputs": [
        {
          "output_type": "execute_result",
          "data": {
            "text/plain": [
              "               RI          Na          Mg          Al          Si           K  \\\n",
              "count  214.000000  214.000000  214.000000  214.000000  214.000000  214.000000   \n",
              "mean     1.518365   13.407850    2.684533    1.444907   72.650935    0.497056   \n",
              "std      0.003037    0.816604    1.442408    0.499270    0.774546    0.652192   \n",
              "min      1.511150   10.730000    0.000000    0.290000   69.810000    0.000000   \n",
              "25%      1.516522   12.907500    2.115000    1.190000   72.280000    0.122500   \n",
              "50%      1.517680   13.300000    3.480000    1.360000   72.790000    0.555000   \n",
              "75%      1.519157   13.825000    3.600000    1.630000   73.087500    0.610000   \n",
              "max      1.533930   17.380000    4.490000    3.500000   75.410000    6.210000   \n",
              "\n",
              "               Ca          Ba          Fe        Type  \n",
              "count  214.000000  214.000000  214.000000  214.000000  \n",
              "mean     8.956963    0.175047    0.057009    2.780374  \n",
              "std      1.423153    0.497219    0.097439    2.103739  \n",
              "min      5.430000    0.000000    0.000000    1.000000  \n",
              "25%      8.240000    0.000000    0.000000    1.000000  \n",
              "50%      8.600000    0.000000    0.000000    2.000000  \n",
              "75%      9.172500    0.000000    0.100000    3.000000  \n",
              "max     16.190000    3.150000    0.510000    7.000000  "
            ],
            "text/html": [
              "\n",
              "  <div id=\"df-60e5876b-1201-43f5-88d1-1d3b3f000a40\">\n",
              "    <div class=\"colab-df-container\">\n",
              "      <div>\n",
              "<style scoped>\n",
              "    .dataframe tbody tr th:only-of-type {\n",
              "        vertical-align: middle;\n",
              "    }\n",
              "\n",
              "    .dataframe tbody tr th {\n",
              "        vertical-align: top;\n",
              "    }\n",
              "\n",
              "    .dataframe thead th {\n",
              "        text-align: right;\n",
              "    }\n",
              "</style>\n",
              "<table border=\"1\" class=\"dataframe\">\n",
              "  <thead>\n",
              "    <tr style=\"text-align: right;\">\n",
              "      <th></th>\n",
              "      <th>RI</th>\n",
              "      <th>Na</th>\n",
              "      <th>Mg</th>\n",
              "      <th>Al</th>\n",
              "      <th>Si</th>\n",
              "      <th>K</th>\n",
              "      <th>Ca</th>\n",
              "      <th>Ba</th>\n",
              "      <th>Fe</th>\n",
              "      <th>Type</th>\n",
              "    </tr>\n",
              "  </thead>\n",
              "  <tbody>\n",
              "    <tr>\n",
              "      <th>count</th>\n",
              "      <td>214.000000</td>\n",
              "      <td>214.000000</td>\n",
              "      <td>214.000000</td>\n",
              "      <td>214.000000</td>\n",
              "      <td>214.000000</td>\n",
              "      <td>214.000000</td>\n",
              "      <td>214.000000</td>\n",
              "      <td>214.000000</td>\n",
              "      <td>214.000000</td>\n",
              "      <td>214.000000</td>\n",
              "    </tr>\n",
              "    <tr>\n",
              "      <th>mean</th>\n",
              "      <td>1.518365</td>\n",
              "      <td>13.407850</td>\n",
              "      <td>2.684533</td>\n",
              "      <td>1.444907</td>\n",
              "      <td>72.650935</td>\n",
              "      <td>0.497056</td>\n",
              "      <td>8.956963</td>\n",
              "      <td>0.175047</td>\n",
              "      <td>0.057009</td>\n",
              "      <td>2.780374</td>\n",
              "    </tr>\n",
              "    <tr>\n",
              "      <th>std</th>\n",
              "      <td>0.003037</td>\n",
              "      <td>0.816604</td>\n",
              "      <td>1.442408</td>\n",
              "      <td>0.499270</td>\n",
              "      <td>0.774546</td>\n",
              "      <td>0.652192</td>\n",
              "      <td>1.423153</td>\n",
              "      <td>0.497219</td>\n",
              "      <td>0.097439</td>\n",
              "      <td>2.103739</td>\n",
              "    </tr>\n",
              "    <tr>\n",
              "      <th>min</th>\n",
              "      <td>1.511150</td>\n",
              "      <td>10.730000</td>\n",
              "      <td>0.000000</td>\n",
              "      <td>0.290000</td>\n",
              "      <td>69.810000</td>\n",
              "      <td>0.000000</td>\n",
              "      <td>5.430000</td>\n",
              "      <td>0.000000</td>\n",
              "      <td>0.000000</td>\n",
              "      <td>1.000000</td>\n",
              "    </tr>\n",
              "    <tr>\n",
              "      <th>25%</th>\n",
              "      <td>1.516522</td>\n",
              "      <td>12.907500</td>\n",
              "      <td>2.115000</td>\n",
              "      <td>1.190000</td>\n",
              "      <td>72.280000</td>\n",
              "      <td>0.122500</td>\n",
              "      <td>8.240000</td>\n",
              "      <td>0.000000</td>\n",
              "      <td>0.000000</td>\n",
              "      <td>1.000000</td>\n",
              "    </tr>\n",
              "    <tr>\n",
              "      <th>50%</th>\n",
              "      <td>1.517680</td>\n",
              "      <td>13.300000</td>\n",
              "      <td>3.480000</td>\n",
              "      <td>1.360000</td>\n",
              "      <td>72.790000</td>\n",
              "      <td>0.555000</td>\n",
              "      <td>8.600000</td>\n",
              "      <td>0.000000</td>\n",
              "      <td>0.000000</td>\n",
              "      <td>2.000000</td>\n",
              "    </tr>\n",
              "    <tr>\n",
              "      <th>75%</th>\n",
              "      <td>1.519157</td>\n",
              "      <td>13.825000</td>\n",
              "      <td>3.600000</td>\n",
              "      <td>1.630000</td>\n",
              "      <td>73.087500</td>\n",
              "      <td>0.610000</td>\n",
              "      <td>9.172500</td>\n",
              "      <td>0.000000</td>\n",
              "      <td>0.100000</td>\n",
              "      <td>3.000000</td>\n",
              "    </tr>\n",
              "    <tr>\n",
              "      <th>max</th>\n",
              "      <td>1.533930</td>\n",
              "      <td>17.380000</td>\n",
              "      <td>4.490000</td>\n",
              "      <td>3.500000</td>\n",
              "      <td>75.410000</td>\n",
              "      <td>6.210000</td>\n",
              "      <td>16.190000</td>\n",
              "      <td>3.150000</td>\n",
              "      <td>0.510000</td>\n",
              "      <td>7.000000</td>\n",
              "    </tr>\n",
              "  </tbody>\n",
              "</table>\n",
              "</div>\n",
              "      <button class=\"colab-df-convert\" onclick=\"convertToInteractive('df-60e5876b-1201-43f5-88d1-1d3b3f000a40')\"\n",
              "              title=\"Convert this dataframe to an interactive table.\"\n",
              "              style=\"display:none;\">\n",
              "        \n",
              "  <svg xmlns=\"http://www.w3.org/2000/svg\" height=\"24px\"viewBox=\"0 0 24 24\"\n",
              "       width=\"24px\">\n",
              "    <path d=\"M0 0h24v24H0V0z\" fill=\"none\"/>\n",
              "    <path d=\"M18.56 5.44l.94 2.06.94-2.06 2.06-.94-2.06-.94-.94-2.06-.94 2.06-2.06.94zm-11 1L8.5 8.5l.94-2.06 2.06-.94-2.06-.94L8.5 2.5l-.94 2.06-2.06.94zm10 10l.94 2.06.94-2.06 2.06-.94-2.06-.94-.94-2.06-.94 2.06-2.06.94z\"/><path d=\"M17.41 7.96l-1.37-1.37c-.4-.4-.92-.59-1.43-.59-.52 0-1.04.2-1.43.59L10.3 9.45l-7.72 7.72c-.78.78-.78 2.05 0 2.83L4 21.41c.39.39.9.59 1.41.59.51 0 1.02-.2 1.41-.59l7.78-7.78 2.81-2.81c.8-.78.8-2.07 0-2.86zM5.41 20L4 18.59l7.72-7.72 1.47 1.35L5.41 20z\"/>\n",
              "  </svg>\n",
              "      </button>\n",
              "      \n",
              "  <style>\n",
              "    .colab-df-container {\n",
              "      display:flex;\n",
              "      flex-wrap:wrap;\n",
              "      gap: 12px;\n",
              "    }\n",
              "\n",
              "    .colab-df-convert {\n",
              "      background-color: #E8F0FE;\n",
              "      border: none;\n",
              "      border-radius: 50%;\n",
              "      cursor: pointer;\n",
              "      display: none;\n",
              "      fill: #1967D2;\n",
              "      height: 32px;\n",
              "      padding: 0 0 0 0;\n",
              "      width: 32px;\n",
              "    }\n",
              "\n",
              "    .colab-df-convert:hover {\n",
              "      background-color: #E2EBFA;\n",
              "      box-shadow: 0px 1px 2px rgba(60, 64, 67, 0.3), 0px 1px 3px 1px rgba(60, 64, 67, 0.15);\n",
              "      fill: #174EA6;\n",
              "    }\n",
              "\n",
              "    [theme=dark] .colab-df-convert {\n",
              "      background-color: #3B4455;\n",
              "      fill: #D2E3FC;\n",
              "    }\n",
              "\n",
              "    [theme=dark] .colab-df-convert:hover {\n",
              "      background-color: #434B5C;\n",
              "      box-shadow: 0px 1px 3px 1px rgba(0, 0, 0, 0.15);\n",
              "      filter: drop-shadow(0px 1px 2px rgba(0, 0, 0, 0.3));\n",
              "      fill: #FFFFFF;\n",
              "    }\n",
              "  </style>\n",
              "\n",
              "      <script>\n",
              "        const buttonEl =\n",
              "          document.querySelector('#df-60e5876b-1201-43f5-88d1-1d3b3f000a40 button.colab-df-convert');\n",
              "        buttonEl.style.display =\n",
              "          google.colab.kernel.accessAllowed ? 'block' : 'none';\n",
              "\n",
              "        async function convertToInteractive(key) {\n",
              "          const element = document.querySelector('#df-60e5876b-1201-43f5-88d1-1d3b3f000a40');\n",
              "          const dataTable =\n",
              "            await google.colab.kernel.invokeFunction('convertToInteractive',\n",
              "                                                     [key], {});\n",
              "          if (!dataTable) return;\n",
              "\n",
              "          const docLinkHtml = 'Like what you see? Visit the ' +\n",
              "            '<a target=\"_blank\" href=https://colab.research.google.com/notebooks/data_table.ipynb>data table notebook</a>'\n",
              "            + ' to learn more about interactive tables.';\n",
              "          element.innerHTML = '';\n",
              "          dataTable['output_type'] = 'display_data';\n",
              "          await google.colab.output.renderOutput(dataTable, element);\n",
              "          const docLink = document.createElement('div');\n",
              "          docLink.innerHTML = docLinkHtml;\n",
              "          element.appendChild(docLink);\n",
              "        }\n",
              "      </script>\n",
              "    </div>\n",
              "  </div>\n",
              "  "
            ]
          },
          "metadata": {},
          "execution_count": 13
        }
      ]
    },
    {
      "cell_type": "code",
      "source": [
        "features = list(glass.columns)\n",
        "print(features)"
      ],
      "metadata": {
        "colab": {
          "base_uri": "https://localhost:8080/"
        },
        "id": "ezZnpS5DMavr",
        "outputId": "684d8a8a-2e40-4c01-ec46-9b321950d391"
      },
      "execution_count": 14,
      "outputs": [
        {
          "output_type": "stream",
          "name": "stdout",
          "text": [
            "['RI', 'Na', 'Mg', 'Al', 'Si', 'K', 'Ca', 'Ba', 'Fe', 'Type']\n"
          ]
        }
      ]
    },
    {
      "cell_type": "code",
      "source": [
        "df = glass.copy()"
      ],
      "metadata": {
        "id": "xbFMQc0bMnH9"
      },
      "execution_count": 15,
      "outputs": []
    },
    {
      "cell_type": "code",
      "source": [
        "sns.factorplot('Type', data=df, kind=\"count\", size = 5, aspect = 2)"
      ],
      "metadata": {
        "colab": {
          "base_uri": "https://localhost:8080/",
          "height": 382
        },
        "id": "cZHS3H18M9RP",
        "outputId": "59ddd3e6-aecb-40a9-eb8e-49ddf5a9432b"
      },
      "execution_count": 17,
      "outputs": [
        {
          "output_type": "execute_result",
          "data": {
            "text/plain": [
              "<seaborn.axisgrid.FacetGrid at 0x7f8477822390>"
            ]
          },
          "metadata": {},
          "execution_count": 17
        },
        {
          "output_type": "display_data",
          "data": {
            "text/plain": [
              "<Figure size 720x360 with 1 Axes>"
            ],
            "image/png": "[encoded data removed]"
          },
          "metadata": {}
        }
      ]
    },
    {
      "cell_type": "code",
      "source": [
        "df.plot(kind='density', subplots=True, layout=(4,5), figsize=(20,20), sharex=False, sharey=False)\n",
        "plt.show()"
      ],
      "metadata": {
        "colab": {
          "base_uri": "https://localhost:8080/",
          "height": 573
        },
        "id": "NO72Us8gNNij",
        "outputId": "2140740c-613d-4240-8824-60d795299aaf"
      },
      "execution_count": 18,
      "outputs": [
        {
          "output_type": "display_data",
          "data": {
            "text/plain": [
              "<Figure size 1440x1440 with 20 Axes>"
            ],
            "image/png": "[encoded data removed]"
          },
          "metadata": {}
        }
      ]
    },
    {
      "cell_type": "code",
      "source": [
        "df.plot(kind='box', subplots=True, layout=(4,5), figsize=(13,20), sharex=False, sharey=False)\n",
        "plt.show()"
      ],
      "metadata": {
        "colab": {
          "base_uri": "https://localhost:8080/",
          "height": 574
        },
        "id": "ZN3jF76KNXrL",
        "outputId": "485492fb-b1d1-4c57-d3f0-ea169207c3b3"
      },
      "execution_count": 19,
      "outputs": [
        {
          "output_type": "display_data",
          "data": {
            "text/plain": [
              "<Figure size 936x1440 with 20 Axes>"
            ],
            "image/png": "[encoded data removed]"
          },
          "metadata": {}
        }
      ]
    },
    {
      "cell_type": "code",
      "source": [
        "# Finding the correlation between the variables in the dataset."
      ],
      "metadata": {
        "id": "SxbMqkMtNh0_"
      },
      "execution_count": 20,
      "outputs": []
    },
    {
      "cell_type": "code",
      "source": [
        "corr = df.corr(method='pearson')"
      ],
      "metadata": {
        "id": "qmDZWU9HPZX4"
      },
      "execution_count": 21,
      "outputs": []
    },
    {
      "cell_type": "code",
      "source": [
        "corr"
      ],
      "metadata": {
        "colab": {
          "base_uri": "https://localhost:8080/",
          "height": 363
        },
        "id": "XFnGpfQ9Pe55",
        "outputId": "1081c298-ca52-4c03-8e78-1dc88c1cee67"
      },
      "execution_count": 22,
      "outputs": [
        {
          "output_type": "execute_result",
          "data": {
            "text/plain": [
              "            RI        Na        Mg        Al        Si         K        Ca  \\\n",
              "RI    1.000000 -0.191885 -0.122274 -0.407326 -0.542052 -0.289833  0.810403   \n",
              "Na   -0.191885  1.000000 -0.273732  0.156794 -0.069809 -0.266087 -0.275442   \n",
              "Mg   -0.122274 -0.273732  1.000000 -0.481799 -0.165927  0.005396 -0.443750   \n",
              "Al   -0.407326  0.156794 -0.481799  1.000000 -0.005524  0.325958 -0.259592   \n",
              "Si   -0.542052 -0.069809 -0.165927 -0.005524  1.000000 -0.193331 -0.208732   \n",
              "K    -0.289833 -0.266087  0.005396  0.325958 -0.193331  1.000000 -0.317836   \n",
              "Ca    0.810403 -0.275442 -0.443750 -0.259592 -0.208732 -0.317836  1.000000   \n",
              "Ba   -0.000386  0.326603 -0.492262  0.479404 -0.102151 -0.042618 -0.112841   \n",
              "Fe    0.143010 -0.241346  0.083060 -0.074402 -0.094201 -0.007719  0.124968   \n",
              "Type -0.164237  0.502898 -0.744993  0.598829  0.151565 -0.010054  0.000952   \n",
              "\n",
              "            Ba        Fe      Type  \n",
              "RI   -0.000386  0.143010 -0.164237  \n",
              "Na    0.326603 -0.241346  0.502898  \n",
              "Mg   -0.492262  0.083060 -0.744993  \n",
              "Al    0.479404 -0.074402  0.598829  \n",
              "Si   -0.102151 -0.094201  0.151565  \n",
              "K    -0.042618 -0.007719 -0.010054  \n",
              "Ca   -0.112841  0.124968  0.000952  \n",
              "Ba    1.000000 -0.058692  0.575161  \n",
              "Fe   -0.058692  1.000000 -0.188278  \n",
              "Type  0.575161 -0.188278  1.000000  "
            ],
            "text/html": [
              "\n",
              "  <div id=\"df-5228a627-9d0f-4bf0-b629-38db1f81c3ff\">\n",
              "    <div class=\"colab-df-container\">\n",
              "      <div>\n",
              "<style scoped>\n",
              "    .dataframe tbody tr th:only-of-type {\n",
              "        vertical-align: middle;\n",
              "    }\n",
              "\n",
              "    .dataframe tbody tr th {\n",
              "        vertical-align: top;\n",
              "    }\n",
              "\n",
              "    .dataframe thead th {\n",
              "        text-align: right;\n",
              "    }\n",
              "</style>\n",
              "<table border=\"1\" class=\"dataframe\">\n",
              "  <thead>\n",
              "    <tr style=\"text-align: right;\">\n",
              "      <th></th>\n",
              "      <th>RI</th>\n",
              "      <th>Na</th>\n",
              "      <th>Mg</th>\n",
              "      <th>Al</th>\n",
              "      <th>Si</th>\n",
              "      <th>K</th>\n",
              "      <th>Ca</th>\n",
              "      <th>Ba</th>\n",
              "      <th>Fe</th>\n",
              "      <th>Type</th>\n",
              "    </tr>\n",
              "  </thead>\n",
              "  <tbody>\n",
              "    <tr>\n",
              "      <th>RI</th>\n",
              "      <td>1.000000</td>\n",
              "      <td>-0.191885</td>\n",
              "      <td>-0.122274</td>\n",
              "      <td>-0.407326</td>\n",
              "      <td>-0.542052</td>\n",
              "      <td>-0.289833</td>\n",
              "      <td>0.810403</td>\n",
              "      <td>-0.000386</td>\n",
              "      <td>0.143010</td>\n",
              "      <td>-0.164237</td>\n",
              "    </tr>\n",
              "    <tr>\n",
              "      <th>Na</th>\n",
              "      <td>-0.191885</td>\n",
              "      <td>1.000000</td>\n",
              "      <td>-0.273732</td>\n",
              "      <td>0.156794</td>\n",
              "      <td>-0.069809</td>\n",
              "      <td>-0.266087</td>\n",
              "      <td>-0.275442</td>\n",
              "      <td>0.326603</td>\n",
              "      <td>-0.241346</td>\n",
              "      <td>0.502898</td>\n",
              "    </tr>\n",
              "    <tr>\n",
              "      <th>Mg</th>\n",
              "      <td>-0.122274</td>\n",
              "      <td>-0.273732</td>\n",
              "      <td>1.000000</td>\n",
              "      <td>-0.481799</td>\n",
              "      <td>-0.165927</td>\n",
              "      <td>0.005396</td>\n",
              "      <td>-0.443750</td>\n",
              "      <td>-0.492262</td>\n",
              "      <td>0.083060</td>\n",
              "      <td>-0.744993</td>\n",
              "    </tr>\n",
              "    <tr>\n",
              "      <th>Al</th>\n",
              "      <td>-0.407326</td>\n",
              "      <td>0.156794</td>\n",
              "      <td>-0.481799</td>\n",
              "      <td>1.000000</td>\n",
              "      <td>-0.005524</td>\n",
              "      <td>0.325958</td>\n",
              "      <td>-0.259592</td>\n",
              "      <td>0.479404</td>\n",
              "      <td>-0.074402</td>\n",
              "      <td>0.598829</td>\n",
              "    </tr>\n",
              "    <tr>\n",
              "      <th>Si</th>\n",
              "      <td>-0.542052</td>\n",
              "      <td>-0.069809</td>\n",
              "      <td>-0.165927</td>\n",
              "      <td>-0.005524</td>\n",
              "      <td>1.000000</td>\n",
              "      <td>-0.193331</td>\n",
              "      <td>-0.208732</td>\n",
              "      <td>-0.102151</td>\n",
              "      <td>-0.094201</td>\n",
              "      <td>0.151565</td>\n",
              "    </tr>\n",
              "    <tr>\n",
              "      <th>K</th>\n",
              "      <td>-0.289833</td>\n",
              "      <td>-0.266087</td>\n",
              "      <td>0.005396</td>\n",
              "      <td>0.325958</td>\n",
              "      <td>-0.193331</td>\n",
              "      <td>1.000000</td>\n",
              "      <td>-0.317836</td>\n",
              "      <td>-0.042618</td>\n",
              "      <td>-0.007719</td>\n",
              "      <td>-0.010054</td>\n",
              "    </tr>\n",
              "    <tr>\n",
              "      <th>Ca</th>\n",
              "      <td>0.810403</td>\n",
              "      <td>-0.275442</td>\n",
              "      <td>-0.443750</td>\n",
              "      <td>-0.259592</td>\n",
              "      <td>-0.208732</td>\n",
              "      <td>-0.317836</td>\n",
              "      <td>1.000000</td>\n",
              "      <td>-0.112841</td>\n",
              "      <td>0.124968</td>\n",
              "      <td>0.000952</td>\n",
              "    </tr>\n",
              "    <tr>\n",
              "      <th>Ba</th>\n",
              "      <td>-0.000386</td>\n",
              "      <td>0.326603</td>\n",
              "      <td>-0.492262</td>\n",
              "      <td>0.479404</td>\n",
              "      <td>-0.102151</td>\n",
              "      <td>-0.042618</td>\n",
              "      <td>-0.112841</td>\n",
              "      <td>1.000000</td>\n",
              "      <td>-0.058692</td>\n",
              "      <td>0.575161</td>\n",
              "    </tr>\n",
              "    <tr>\n",
              "      <th>Fe</th>\n",
              "      <td>0.143010</td>\n",
              "      <td>-0.241346</td>\n",
              "      <td>0.083060</td>\n",
              "      <td>-0.074402</td>\n",
              "      <td>-0.094201</td>\n",
              "      <td>-0.007719</td>\n",
              "      <td>0.124968</td>\n",
              "      <td>-0.058692</td>\n",
              "      <td>1.000000</td>\n",
              "      <td>-0.188278</td>\n",
              "    </tr>\n",
              "    <tr>\n",
              "      <th>Type</th>\n",
              "      <td>-0.164237</td>\n",
              "      <td>0.502898</td>\n",
              "      <td>-0.744993</td>\n",
              "      <td>0.598829</td>\n",
              "      <td>0.151565</td>\n",
              "      <td>-0.010054</td>\n",
              "      <td>0.000952</td>\n",
              "      <td>0.575161</td>\n",
              "      <td>-0.188278</td>\n",
              "      <td>1.000000</td>\n",
              "    </tr>\n",
              "  </tbody>\n",
              "</table>\n",
              "</div>\n",
              "      <button class=\"colab-df-convert\" onclick=\"convertToInteractive('df-5228a627-9d0f-4bf0-b629-38db1f81c3ff')\"\n",
              "              title=\"Convert this dataframe to an interactive table.\"\n",
              "              style=\"display:none;\">\n",
              "        \n",
              "  <svg xmlns=\"http://www.w3.org/2000/svg\" height=\"24px\"viewBox=\"0 0 24 24\"\n",
              "       width=\"24px\">\n",
              "    <path d=\"M0 0h24v24H0V0z\" fill=\"none\"/>\n",
              "    <path d=\"M18.56 5.44l.94 2.06.94-2.06 2.06-.94-2.06-.94-.94-2.06-.94 2.06-2.06.94zm-11 1L8.5 8.5l.94-2.06 2.06-.94-2.06-.94L8.5 2.5l-.94 2.06-2.06.94zm10 10l.94 2.06.94-2.06 2.06-.94-2.06-.94-.94-2.06-.94 2.06-2.06.94z\"/><path d=\"M17.41 7.96l-1.37-1.37c-.4-.4-.92-.59-1.43-.59-.52 0-1.04.2-1.43.59L10.3 9.45l-7.72 7.72c-.78.78-.78 2.05 0 2.83L4 21.41c.39.39.9.59 1.41.59.51 0 1.02-.2 1.41-.59l7.78-7.78 2.81-2.81c.8-.78.8-2.07 0-2.86zM5.41 20L4 18.59l7.72-7.72 1.47 1.35L5.41 20z\"/>\n",
              "  </svg>\n",
              "      </button>\n",
              "      \n",
              "  <style>\n",
              "    .colab-df-container {\n",
              "      display:flex;\n",
              "      flex-wrap:wrap;\n",
              "      gap: 12px;\n",
              "    }\n",
              "\n",
              "    .colab-df-convert {\n",
              "      background-color: #E8F0FE;\n",
              "      border: none;\n",
              "      border-radius: 50%;\n",
              "      cursor: pointer;\n",
              "      display: none;\n",
              "      fill: #1967D2;\n",
              "      height: 32px;\n",
              "      padding: 0 0 0 0;\n",
              "      width: 32px;\n",
              "    }\n",
              "\n",
              "    .colab-df-convert:hover {\n",
              "      background-color: #E2EBFA;\n",
              "      box-shadow: 0px 1px 2px rgba(60, 64, 67, 0.3), 0px 1px 3px 1px rgba(60, 64, 67, 0.15);\n",
              "      fill: #174EA6;\n",
              "    }\n",
              "\n",
              "    [theme=dark] .colab-df-convert {\n",
              "      background-color: #3B4455;\n",
              "      fill: #D2E3FC;\n",
              "    }\n",
              "\n",
              "    [theme=dark] .colab-df-convert:hover {\n",
              "      background-color: #434B5C;\n",
              "      box-shadow: 0px 1px 3px 1px rgba(0, 0, 0, 0.15);\n",
              "      filter: drop-shadow(0px 1px 2px rgba(0, 0, 0, 0.3));\n",
              "      fill: #FFFFFF;\n",
              "    }\n",
              "  </style>\n",
              "\n",
              "      <script>\n",
              "        const buttonEl =\n",
              "          document.querySelector('#df-5228a627-9d0f-4bf0-b629-38db1f81c3ff button.colab-df-convert');\n",
              "        buttonEl.style.display =\n",
              "          google.colab.kernel.accessAllowed ? 'block' : 'none';\n",
              "\n",
              "        async function convertToInteractive(key) {\n",
              "          const element = document.querySelector('#df-5228a627-9d0f-4bf0-b629-38db1f81c3ff');\n",
              "          const dataTable =\n",
              "            await google.colab.kernel.invokeFunction('convertToInteractive',\n",
              "                                                     [key], {});\n",
              "          if (!dataTable) return;\n",
              "\n",
              "          const docLinkHtml = 'Like what you see? Visit the ' +\n",
              "            '<a target=\"_blank\" href=https://colab.research.google.com/notebooks/data_table.ipynb>data table notebook</a>'\n",
              "            + ' to learn more about interactive tables.';\n",
              "          element.innerHTML = '';\n",
              "          dataTable['output_type'] = 'display_data';\n",
              "          await google.colab.output.renderOutput(dataTable, element);\n",
              "          const docLink = document.createElement('div');\n",
              "          docLink.innerHTML = docLinkHtml;\n",
              "          element.appendChild(docLink);\n",
              "        }\n",
              "      </script>\n",
              "    </div>\n",
              "  </div>\n",
              "  "
            ]
          },
          "metadata": {},
          "execution_count": 22
        }
      ]
    },
    {
      "cell_type": "code",
      "source": [
        "corr.style.background_gradient(cmap='flare')"
      ],
      "metadata": {
        "colab": {
          "base_uri": "https://localhost:8080/",
          "height": 363
        },
        "id": "xaAToh3hPgLC",
        "outputId": "87250716-4303-4195-a556-96686c7454a5"
      },
      "execution_count": 32,
      "outputs": [
        {
          "output_type": "execute_result",
          "data": {
            "text/plain": [
              "<pandas.io.formats.style.Styler at 0x7f8472888ed0>"
            ],
            "text/html": [
              "<style type=\"text/css\">\n",
              "#T_347a3_row0_col0, #T_347a3_row1_col1, #T_347a3_row2_col2, #T_347a3_row3_col3, #T_347a3_row4_col4, #T_347a3_row5_col5, #T_347a3_row6_col6, #T_347a3_row7_col7, #T_347a3_row8_col8, #T_347a3_row9_col9 {\n",
              "  background-color: #4b2362;\n",
              "  color: #f1f1f1;\n",
              "}\n",
              "#T_347a3_row0_col1 {\n",
              "  background-color: #eca077;\n",
              "  color: #000000;\n",
              "}\n",
              "#T_347a3_row0_col2 {\n",
              "  background-color: #dc575c;\n",
              "  color: #f1f1f1;\n",
              "}\n",
              "#T_347a3_row0_col3 {\n",
              "  background-color: #eca479;\n",
              "  color: #000000;\n",
              "}\n",
              "#T_347a3_row0_col4, #T_347a3_row1_col8, #T_347a3_row2_col1, #T_347a3_row2_col3, #T_347a3_row2_col6, #T_347a3_row2_col7, #T_347a3_row2_col9, #T_347a3_row4_col0, #T_347a3_row6_col1, #T_347a3_row6_col5, #T_347a3_row9_col2 {\n",
              "  background-color: #edb081;\n",
              "  color: #000000;\n",
              "}\n",
              "#T_347a3_row0_col5 {\n",
              "  background-color: #edab7e;\n",
              "  color: #000000;\n",
              "}\n",
              "#T_347a3_row0_col6 {\n",
              "  background-color: #692b6c;\n",
              "  color: #f1f1f1;\n",
              "}\n",
              "#T_347a3_row0_col7, #T_347a3_row4_col2 {\n",
              "  background-color: #df5e5c;\n",
              "  color: #f1f1f1;\n",
              "}\n",
              "#T_347a3_row0_col8 {\n",
              "  background-color: #e1625c;\n",
              "  color: #f1f1f1;\n",
              "}\n",
              "#T_347a3_row0_col9 {\n",
              "  background-color: #de5d5c;\n",
              "  color: #f1f1f1;\n",
              "}\n",
              "#T_347a3_row1_col0, #T_347a3_row7_col6 {\n",
              "  background-color: #e67760;\n",
              "  color: #f1f1f1;\n",
              "}\n",
              "#T_347a3_row1_col2, #T_347a3_row2_col0 {\n",
              "  background-color: #e46c5d;\n",
              "  color: #f1f1f1;\n",
              "}\n",
              "#T_347a3_row1_col3, #T_347a3_row5_col2 {\n",
              "  background-color: #d04962;\n",
              "  color: #f1f1f1;\n",
              "}\n",
              "#T_347a3_row1_col4, #T_347a3_row9_col6 {\n",
              "  background-color: #e1635c;\n",
              "  color: #f1f1f1;\n",
              "}\n",
              "#T_347a3_row1_col5, #T_347a3_row9_col8 {\n",
              "  background-color: #eca67b;\n",
              "  color: #000000;\n",
              "}\n",
              "#T_347a3_row1_col6 {\n",
              "  background-color: #ea946f;\n",
              "  color: #f1f1f1;\n",
              "}\n",
              "#T_347a3_row1_col7 {\n",
              "  background-color: #b63d6b;\n",
              "  color: #f1f1f1;\n",
              "}\n",
              "#T_347a3_row1_col9, #T_347a3_row9_col7 {\n",
              "  background-color: #8e3271;\n",
              "  color: #f1f1f1;\n",
              "}\n",
              "#T_347a3_row2_col4, #T_347a3_row2_col5, #T_347a3_row9_col0 {\n",
              "  background-color: #e5735f;\n",
              "  color: #f1f1f1;\n",
              "}\n",
              "#T_347a3_row2_col8, #T_347a3_row4_col7 {\n",
              "  background-color: #e46f5e;\n",
              "  color: #f1f1f1;\n",
              "}\n",
              "#T_347a3_row3_col0, #T_347a3_row5_col6 {\n",
              "  background-color: #eb9a73;\n",
              "  color: #000000;\n",
              "}\n",
              "#T_347a3_row3_col1 {\n",
              "  background-color: #de5c5c;\n",
              "  color: #f1f1f1;\n",
              "}\n",
              "#T_347a3_row3_col2, #T_347a3_row6_col3 {\n",
              "  background-color: #e98b6a;\n",
              "  color: #f1f1f1;\n",
              "}\n",
              "#T_347a3_row3_col4, #T_347a3_row7_col0 {\n",
              "  background-color: #dd595c;\n",
              "  color: #f1f1f1;\n",
              "}\n",
              "#T_347a3_row3_col5 {\n",
              "  background-color: #c44267;\n",
              "  color: #f1f1f1;\n",
              "}\n",
              "#T_347a3_row3_col6 {\n",
              "  background-color: #ea916e;\n",
              "  color: #f1f1f1;\n",
              "}\n",
              "#T_347a3_row3_col7, #T_347a3_row7_col3 {\n",
              "  background-color: #9e3770;\n",
              "  color: #f1f1f1;\n",
              "}\n",
              "#T_347a3_row3_col8 {\n",
              "  background-color: #ea8f6c;\n",
              "  color: #f1f1f1;\n",
              "}\n",
              "#T_347a3_row3_col9 {\n",
              "  background-color: #812f70;\n",
              "  color: #f1f1f1;\n",
              "}\n",
              "#T_347a3_row4_col1, #T_347a3_row4_col6, #T_347a3_row5_col0 {\n",
              "  background-color: #e98868;\n",
              "  color: #f1f1f1;\n",
              "}\n",
              "#T_347a3_row4_col3 {\n",
              "  background-color: #e05f5c;\n",
              "  color: #f1f1f1;\n",
              "}\n",
              "#T_347a3_row4_col5 {\n",
              "  background-color: #eb9972;\n",
              "  color: #000000;\n",
              "}\n",
              "#T_347a3_row4_col8 {\n",
              "  background-color: #ea936f;\n",
              "  color: #f1f1f1;\n",
              "}\n",
              "#T_347a3_row4_col9 {\n",
              "  background-color: #bf4069;\n",
              "  color: #f1f1f1;\n",
              "}\n",
              "#T_347a3_row5_col1 {\n",
              "  background-color: #edaf80;\n",
              "  color: #000000;\n",
              "}\n",
              "#T_347a3_row5_col3 {\n",
              "  background-color: #b73d6b;\n",
              "  color: #f1f1f1;\n",
              "}\n",
              "#T_347a3_row5_col4 {\n",
              "  background-color: #e67861;\n",
              "  color: #f1f1f1;\n",
              "}\n",
              "#T_347a3_row5_col7 {\n",
              "  background-color: #e1645c;\n",
              "  color: #f1f1f1;\n",
              "}\n",
              "#T_347a3_row5_col8 {\n",
              "  background-color: #e88165;\n",
              "  color: #f1f1f1;\n",
              "}\n",
              "#T_347a3_row5_col9 {\n",
              "  background-color: #d24b60;\n",
              "  color: #f1f1f1;\n",
              "}\n",
              "#T_347a3_row6_col0 {\n",
              "  background-color: #672a6b;\n",
              "  color: #f1f1f1;\n",
              "}\n",
              "#T_347a3_row6_col2 {\n",
              "  background-color: #e88567;\n",
              "  color: #f1f1f1;\n",
              "}\n",
              "#T_347a3_row6_col4 {\n",
              "  background-color: #e77a62;\n",
              "  color: #f1f1f1;\n",
              "}\n",
              "#T_347a3_row6_col7 {\n",
              "  background-color: #e5705e;\n",
              "  color: #f1f1f1;\n",
              "}\n",
              "#T_347a3_row6_col8 {\n",
              "  background-color: #e2665c;\n",
              "  color: #f1f1f1;\n",
              "}\n",
              "#T_347a3_row6_col9 {\n",
              "  background-color: #d14a61;\n",
              "  color: #f1f1f1;\n",
              "}\n",
              "#T_347a3_row7_col1 {\n",
              "  background-color: #c84465;\n",
              "  color: #f1f1f1;\n",
              "}\n",
              "#T_347a3_row7_col2, #T_347a3_row7_col8 {\n",
              "  background-color: #e98c6b;\n",
              "  color: #f1f1f1;\n",
              "}\n",
              "#T_347a3_row7_col4 {\n",
              "  background-color: #e3685c;\n",
              "  color: #f1f1f1;\n",
              "}\n",
              "#T_347a3_row7_col5 {\n",
              "  background-color: #e77c63;\n",
              "  color: #f1f1f1;\n",
              "}\n",
              "#T_347a3_row7_col9 {\n",
              "  background-color: #853071;\n",
              "  color: #f1f1f1;\n",
              "}\n",
              "#T_347a3_row8_col0 {\n",
              "  background-color: #ce4763;\n",
              "  color: #f1f1f1;\n",
              "}\n",
              "#T_347a3_row8_col1 {\n",
              "  background-color: #ecaa7d;\n",
              "  color: #000000;\n",
              "}\n",
              "#T_347a3_row8_col2 {\n",
              "  background-color: #c84365;\n",
              "  color: #f1f1f1;\n",
              "}\n",
              "#T_347a3_row8_col3 {\n",
              "  background-color: #e36b5d;\n",
              "  color: #f1f1f1;\n",
              "}\n",
              "#T_347a3_row8_col4, #T_347a3_row8_col7 {\n",
              "  background-color: #e2675c;\n",
              "  color: #f1f1f1;\n",
              "}\n",
              "#T_347a3_row8_col5 {\n",
              "  background-color: #e67560;\n",
              "  color: #f1f1f1;\n",
              "}\n",
              "#T_347a3_row8_col6 {\n",
              "  background-color: #d7505e;\n",
              "  color: #f1f1f1;\n",
              "}\n",
              "#T_347a3_row8_col9 {\n",
              "  background-color: #e0605c;\n",
              "  color: #f1f1f1;\n",
              "}\n",
              "#T_347a3_row9_col1 {\n",
              "  background-color: #a7396e;\n",
              "  color: #f1f1f1;\n",
              "}\n",
              "#T_347a3_row9_col3 {\n",
              "  background-color: #8b3271;\n",
              "  color: #f1f1f1;\n",
              "}\n",
              "#T_347a3_row9_col4 {\n",
              "  background-color: #cc4663;\n",
              "  color: #f1f1f1;\n",
              "}\n",
              "#T_347a3_row9_col5 {\n",
              "  background-color: #e67660;\n",
              "  color: #f1f1f1;\n",
              "}\n",
              "</style>\n",
              "<table id=\"T_347a3_\" class=\"dataframe\">\n",
              "  <thead>\n",
              "    <tr>\n",
              "      <th class=\"blank level0\" >&nbsp;</th>\n",
              "      <th class=\"col_heading level0 col0\" >RI</th>\n",
              "      <th class=\"col_heading level0 col1\" >Na</th>\n",
              "      <th class=\"col_heading level0 col2\" >Mg</th>\n",
              "      <th class=\"col_heading level0 col3\" >Al</th>\n",
              "      <th class=\"col_heading level0 col4\" >Si</th>\n",
              "      <th class=\"col_heading level0 col5\" >K</th>\n",
              "      <th class=\"col_heading level0 col6\" >Ca</th>\n",
              "      <th class=\"col_heading level0 col7\" >Ba</th>\n",
              "      <th class=\"col_heading level0 col8\" >Fe</th>\n",
              "      <th class=\"col_heading level0 col9\" >Type</th>\n",
              "    </tr>\n",
              "  </thead>\n",
              "  <tbody>\n",
              "    <tr>\n",
              "      <th id=\"T_347a3_level0_row0\" class=\"row_heading level0 row0\" >RI</th>\n",
              "      <td id=\"T_347a3_row0_col0\" class=\"data row0 col0\" >1.000000</td>\n",
              "      <td id=\"T_347a3_row0_col1\" class=\"data row0 col1\" >-0.191885</td>\n",
              "      <td id=\"T_347a3_row0_col2\" class=\"data row0 col2\" >-0.122274</td>\n",
              "      <td id=\"T_347a3_row0_col3\" class=\"data row0 col3\" >-0.407326</td>\n",
              "      <td id=\"T_347a3_row0_col4\" class=\"data row0 col4\" >-0.542052</td>\n",
              "      <td id=\"T_347a3_row0_col5\" class=\"data row0 col5\" >-0.289833</td>\n",
              "      <td id=\"T_347a3_row0_col6\" class=\"data row0 col6\" >0.810403</td>\n",
              "      <td id=\"T_347a3_row0_col7\" class=\"data row0 col7\" >-0.000386</td>\n",
              "      <td id=\"T_347a3_row0_col8\" class=\"data row0 col8\" >0.143010</td>\n",
              "      <td id=\"T_347a3_row0_col9\" class=\"data row0 col9\" >-0.164237</td>\n",
              "    </tr>\n",
              "    <tr>\n",
              "      <th id=\"T_347a3_level0_row1\" class=\"row_heading level0 row1\" >Na</th>\n",
              "      <td id=\"T_347a3_row1_col0\" class=\"data row1 col0\" >-0.191885</td>\n",
              "      <td id=\"T_347a3_row1_col1\" class=\"data row1 col1\" >1.000000</td>\n",
              "      <td id=\"T_347a3_row1_col2\" class=\"data row1 col2\" >-0.273732</td>\n",
              "      <td id=\"T_347a3_row1_col3\" class=\"data row1 col3\" >0.156794</td>\n",
              "      <td id=\"T_347a3_row1_col4\" class=\"data row1 col4\" >-0.069809</td>\n",
              "      <td id=\"T_347a3_row1_col5\" class=\"data row1 col5\" >-0.266087</td>\n",
              "      <td id=\"T_347a3_row1_col6\" class=\"data row1 col6\" >-0.275442</td>\n",
              "      <td id=\"T_347a3_row1_col7\" class=\"data row1 col7\" >0.326603</td>\n",
              "      <td id=\"T_347a3_row1_col8\" class=\"data row1 col8\" >-0.241346</td>\n",
              "      <td id=\"T_347a3_row1_col9\" class=\"data row1 col9\" >0.502898</td>\n",
              "    </tr>\n",
              "    <tr>\n",
              "      <th id=\"T_347a3_level0_row2\" class=\"row_heading level0 row2\" >Mg</th>\n",
              "      <td id=\"T_347a3_row2_col0\" class=\"data row2 col0\" >-0.122274</td>\n",
              "      <td id=\"T_347a3_row2_col1\" class=\"data row2 col1\" >-0.273732</td>\n",
              "      <td id=\"T_347a3_row2_col2\" class=\"data row2 col2\" >1.000000</td>\n",
              "      <td id=\"T_347a3_row2_col3\" class=\"data row2 col3\" >-0.481799</td>\n",
              "      <td id=\"T_347a3_row2_col4\" class=\"data row2 col4\" >-0.165927</td>\n",
              "      <td id=\"T_347a3_row2_col5\" class=\"data row2 col5\" >0.005396</td>\n",
              "      <td id=\"T_347a3_row2_col6\" class=\"data row2 col6\" >-0.443750</td>\n",
              "      <td id=\"T_347a3_row2_col7\" class=\"data row2 col7\" >-0.492262</td>\n",
              "      <td id=\"T_347a3_row2_col8\" class=\"data row2 col8\" >0.083060</td>\n",
              "      <td id=\"T_347a3_row2_col9\" class=\"data row2 col9\" >-0.744993</td>\n",
              "    </tr>\n",
              "    <tr>\n",
              "      <th id=\"T_347a3_level0_row3\" class=\"row_heading level0 row3\" >Al</th>\n",
              "      <td id=\"T_347a3_row3_col0\" class=\"data row3 col0\" >-0.407326</td>\n",
              "      <td id=\"T_347a3_row3_col1\" class=\"data row3 col1\" >0.156794</td>\n",
              "      <td id=\"T_347a3_row3_col2\" class=\"data row3 col2\" >-0.481799</td>\n",
              "      <td id=\"T_347a3_row3_col3\" class=\"data row3 col3\" >1.000000</td>\n",
              "      <td id=\"T_347a3_row3_col4\" class=\"data row3 col4\" >-0.005524</td>\n",
              "      <td id=\"T_347a3_row3_col5\" class=\"data row3 col5\" >0.325958</td>\n",
              "      <td id=\"T_347a3_row3_col6\" class=\"data row3 col6\" >-0.259592</td>\n",
              "      <td id=\"T_347a3_row3_col7\" class=\"data row3 col7\" >0.479404</td>\n",
              "      <td id=\"T_347a3_row3_col8\" class=\"data row3 col8\" >-0.074402</td>\n",
              "      <td id=\"T_347a3_row3_col9\" class=\"data row3 col9\" >0.598829</td>\n",
              "    </tr>\n",
              "    <tr>\n",
              "      <th id=\"T_347a3_level0_row4\" class=\"row_heading level0 row4\" >Si</th>\n",
              "      <td id=\"T_347a3_row4_col0\" class=\"data row4 col0\" >-0.542052</td>\n",
              "      <td id=\"T_347a3_row4_col1\" class=\"data row4 col1\" >-0.069809</td>\n",
              "      <td id=\"T_347a3_row4_col2\" class=\"data row4 col2\" >-0.165927</td>\n",
              "      <td id=\"T_347a3_row4_col3\" class=\"data row4 col3\" >-0.005524</td>\n",
              "      <td id=\"T_347a3_row4_col4\" class=\"data row4 col4\" >1.000000</td>\n",
              "      <td id=\"T_347a3_row4_col5\" class=\"data row4 col5\" >-0.193331</td>\n",
              "      <td id=\"T_347a3_row4_col6\" class=\"data row4 col6\" >-0.208732</td>\n",
              "      <td id=\"T_347a3_row4_col7\" class=\"data row4 col7\" >-0.102151</td>\n",
              "      <td id=\"T_347a3_row4_col8\" class=\"data row4 col8\" >-0.094201</td>\n",
              "      <td id=\"T_347a3_row4_col9\" class=\"data row4 col9\" >0.151565</td>\n",
              "    </tr>\n",
              "    <tr>\n",
              "      <th id=\"T_347a3_level0_row5\" class=\"row_heading level0 row5\" >K</th>\n",
              "      <td id=\"T_347a3_row5_col0\" class=\"data row5 col0\" >-0.289833</td>\n",
              "      <td id=\"T_347a3_row5_col1\" class=\"data row5 col1\" >-0.266087</td>\n",
              "      <td id=\"T_347a3_row5_col2\" class=\"data row5 col2\" >0.005396</td>\n",
              "      <td id=\"T_347a3_row5_col3\" class=\"data row5 col3\" >0.325958</td>\n",
              "      <td id=\"T_347a3_row5_col4\" class=\"data row5 col4\" >-0.193331</td>\n",
              "      <td id=\"T_347a3_row5_col5\" class=\"data row5 col5\" >1.000000</td>\n",
              "      <td id=\"T_347a3_row5_col6\" class=\"data row5 col6\" >-0.317836</td>\n",
              "      <td id=\"T_347a3_row5_col7\" class=\"data row5 col7\" >-0.042618</td>\n",
              "      <td id=\"T_347a3_row5_col8\" class=\"data row5 col8\" >-0.007719</td>\n",
              "      <td id=\"T_347a3_row5_col9\" class=\"data row5 col9\" >-0.010054</td>\n",
              "    </tr>\n",
              "    <tr>\n",
              "      <th id=\"T_347a3_level0_row6\" class=\"row_heading level0 row6\" >Ca</th>\n",
              "      <td id=\"T_347a3_row6_col0\" class=\"data row6 col0\" >0.810403</td>\n",
              "      <td id=\"T_347a3_row6_col1\" class=\"data row6 col1\" >-0.275442</td>\n",
              "      <td id=\"T_347a3_row6_col2\" class=\"data row6 col2\" >-0.443750</td>\n",
              "      <td id=\"T_347a3_row6_col3\" class=\"data row6 col3\" >-0.259592</td>\n",
              "      <td id=\"T_347a3_row6_col4\" class=\"data row6 col4\" >-0.208732</td>\n",
              "      <td id=\"T_347a3_row6_col5\" class=\"data row6 col5\" >-0.317836</td>\n",
              "      <td id=\"T_347a3_row6_col6\" class=\"data row6 col6\" >1.000000</td>\n",
              "      <td id=\"T_347a3_row6_col7\" class=\"data row6 col7\" >-0.112841</td>\n",
              "      <td id=\"T_347a3_row6_col8\" class=\"data row6 col8\" >0.124968</td>\n",
              "      <td id=\"T_347a3_row6_col9\" class=\"data row6 col9\" >0.000952</td>\n",
              "    </tr>\n",
              "    <tr>\n",
              "      <th id=\"T_347a3_level0_row7\" class=\"row_heading level0 row7\" >Ba</th>\n",
              "      <td id=\"T_347a3_row7_col0\" class=\"data row7 col0\" >-0.000386</td>\n",
              "      <td id=\"T_347a3_row7_col1\" class=\"data row7 col1\" >0.326603</td>\n",
              "      <td id=\"T_347a3_row7_col2\" class=\"data row7 col2\" >-0.492262</td>\n",
              "      <td id=\"T_347a3_row7_col3\" class=\"data row7 col3\" >0.479404</td>\n",
              "      <td id=\"T_347a3_row7_col4\" class=\"data row7 col4\" >-0.102151</td>\n",
              "      <td id=\"T_347a3_row7_col5\" class=\"data row7 col5\" >-0.042618</td>\n",
              "      <td id=\"T_347a3_row7_col6\" class=\"data row7 col6\" >-0.112841</td>\n",
              "      <td id=\"T_347a3_row7_col7\" class=\"data row7 col7\" >1.000000</td>\n",
              "      <td id=\"T_347a3_row7_col8\" class=\"data row7 col8\" >-0.058692</td>\n",
              "      <td id=\"T_347a3_row7_col9\" class=\"data row7 col9\" >0.575161</td>\n",
              "    </tr>\n",
              "    <tr>\n",
              "      <th id=\"T_347a3_level0_row8\" class=\"row_heading level0 row8\" >Fe</th>\n",
              "      <td id=\"T_347a3_row8_col0\" class=\"data row8 col0\" >0.143010</td>\n",
              "      <td id=\"T_347a3_row8_col1\" class=\"data row8 col1\" >-0.241346</td>\n",
              "      <td id=\"T_347a3_row8_col2\" class=\"data row8 col2\" >0.083060</td>\n",
              "      <td id=\"T_347a3_row8_col3\" class=\"data row8 col3\" >-0.074402</td>\n",
              "      <td id=\"T_347a3_row8_col4\" class=\"data row8 col4\" >-0.094201</td>\n",
              "      <td id=\"T_347a3_row8_col5\" class=\"data row8 col5\" >-0.007719</td>\n",
              "      <td id=\"T_347a3_row8_col6\" class=\"data row8 col6\" >0.124968</td>\n",
              "      <td id=\"T_347a3_row8_col7\" class=\"data row8 col7\" >-0.058692</td>\n",
              "      <td id=\"T_347a3_row8_col8\" class=\"data row8 col8\" >1.000000</td>\n",
              "      <td id=\"T_347a3_row8_col9\" class=\"data row8 col9\" >-0.188278</td>\n",
              "    </tr>\n",
              "    <tr>\n",
              "      <th id=\"T_347a3_level0_row9\" class=\"row_heading level0 row9\" >Type</th>\n",
              "      <td id=\"T_347a3_row9_col0\" class=\"data row9 col0\" >-0.164237</td>\n",
              "      <td id=\"T_347a3_row9_col1\" class=\"data row9 col1\" >0.502898</td>\n",
              "      <td id=\"T_347a3_row9_col2\" class=\"data row9 col2\" >-0.744993</td>\n",
              "      <td id=\"T_347a3_row9_col3\" class=\"data row9 col3\" >0.598829</td>\n",
              "      <td id=\"T_347a3_row9_col4\" class=\"data row9 col4\" >0.151565</td>\n",
              "      <td id=\"T_347a3_row9_col5\" class=\"data row9 col5\" >-0.010054</td>\n",
              "      <td id=\"T_347a3_row9_col6\" class=\"data row9 col6\" >0.000952</td>\n",
              "      <td id=\"T_347a3_row9_col7\" class=\"data row9 col7\" >0.575161</td>\n",
              "      <td id=\"T_347a3_row9_col8\" class=\"data row9 col8\" >-0.188278</td>\n",
              "      <td id=\"T_347a3_row9_col9\" class=\"data row9 col9\" >1.000000</td>\n",
              "    </tr>\n",
              "  </tbody>\n",
              "</table>\n"
            ]
          },
          "metadata": {},
          "execution_count": 32
        }
      ]
    },
    {
      "cell_type": "markdown",
      "source": [
        "# KNN Classification"
      ],
      "metadata": {
        "id": "HdwtAwvBQUl4"
      }
    },
    {
      "cell_type": "markdown",
      "source": [
        "Finding optimal number of K"
      ],
      "metadata": {
        "id": "RPsmq4NFRW2r"
      }
    },
    {
      "cell_type": "code",
      "source": [
        "df.shape"
      ],
      "metadata": {
        "colab": {
          "base_uri": "https://localhost:8080/"
        },
        "id": "aK5qlsaIPlnz",
        "outputId": "ccf4f86e-de08-48e6-f728-5038259dd0c2"
      },
      "execution_count": 33,
      "outputs": [
        {
          "output_type": "execute_result",
          "data": {
            "text/plain": [
              "(214, 10)"
            ]
          },
          "metadata": {},
          "execution_count": 33
        }
      ]
    },
    {
      "cell_type": "code",
      "source": [
        "X = df.iloc[:,0:9]\n",
        "y = df.iloc[:,9]"
      ],
      "metadata": {
        "id": "4J8KxJAkPp_y"
      },
      "execution_count": 35,
      "outputs": []
    },
    {
      "cell_type": "code",
      "source": [
        "X_train, X_test, y_train, y_test = train_test_split(X, y, test_size=0.2, random_state=1, stratify=y)"
      ],
      "metadata": {
        "id": "nnaToRkfRcoq"
      },
      "execution_count": 36,
      "outputs": []
    },
    {
      "cell_type": "code",
      "source": [
        "k_values = np.arange(1,25)\n",
        "train_accuracy = []\n",
        "test_accuracy = []"
      ],
      "metadata": {
        "id": "gaOqAzbcRcrM"
      },
      "execution_count": 37,
      "outputs": []
    },
    {
      "cell_type": "code",
      "source": [
        "for i, k in enumerate(k_values):\n",
        "    knn = KNeighborsClassifier(n_neighbors=k)\n",
        "    knn.fit(X_train,y_train)\n",
        "    train_accuracy.append(knn.score(X_train, y_train))\n",
        "    test_accuracy.append(knn.score(X_test, y_test))"
      ],
      "metadata": {
        "id": "nhF9ZPl4Rcuj"
      },
      "execution_count": 38,
      "outputs": []
    },
    {
      "cell_type": "code",
      "source": [
        "plt.figure(figsize=[16,9])\n",
        "plt.plot(k_values, test_accuracy, label = 'Testing Accuracy')\n",
        "plt.plot(k_values, train_accuracy, label = 'Training Accuracy')\n",
        "plt.legend()\n",
        "\n",
        "plt.title('Value VS Accuracy')\n",
        "plt.xlabel('Number of Neighbors')\n",
        "plt.ylabel('Accuracy')\n",
        "plt.xticks(k_values)\n",
        "plt.show()"
      ],
      "metadata": {
        "colab": {
          "base_uri": "https://localhost:8080/",
          "height": 573
        },
        "id": "62mN2wnTRcx_",
        "outputId": "c00a4271-817d-4854-af4c-6f40c07e46a4"
      },
      "execution_count": 47,
      "outputs": [
        {
          "output_type": "display_data",
          "data": {
            "text/plain": [
              "<Figure size 1152x648 with 1 Axes>"
            ],
            "image/png": "[encoded data removed]"
          },
          "metadata": {
            "needs_background": "light"
          }
        }
      ]
    },
    {
      "cell_type": "code",
      "source": [
        "import matplotlib.pyplot as plt \n",
        "%matplotlib inline\n",
        "# choose k between 1 to 25\n",
        "k_range = range(1, 25)\n",
        "k_scores = []\n",
        "# use iteration to caclulator different k in models, then return the average accuracy based on the cross validation\n",
        "for k in k_range:\n",
        "    knn = KNeighborsClassifier(n_neighbors=k)\n",
        "    scores = cross_val_score(knn, X, y, cv=5)\n",
        "    k_scores.append(scores.mean())\n",
        "# plot to see clearly\n",
        "plt.plot(k_range, k_scores)\n",
        "plt.xlabel('Value of K for KNN')\n",
        "plt.ylabel('Cross-Validated Accuracy')\n",
        "plt.figure(figsize=[16,9])\n",
        "plt.show()"
      ],
      "metadata": {
        "colab": {
          "base_uri": "https://localhost:8080/",
          "height": 302
        },
        "id": "ZUJxlbr8R94R",
        "outputId": "ae6c6dc1-b20c-4db5-a8fe-945a1b885f3a"
      },
      "execution_count": 46,
      "outputs": [
        {
          "output_type": "display_data",
          "data": {
            "text/plain": [
              "<Figure size 432x288 with 1 Axes>"
            ],
            "image/png": "[encoded data removed]"
          },
          "metadata": {
            "needs_background": "light"
          }
        },
        {
          "output_type": "display_data",
          "data": {
            "text/plain": [
              "<Figure size 1152x648 with 0 Axes>"
            ]
          },
          "metadata": {}
        }
      ]
    },
    {
      "cell_type": "markdown",
      "source": [
        "Applying Algorithm\n"
      ],
      "metadata": {
        "id": "uIy7x9IQTv43"
      }
    },
    {
      "cell_type": "code",
      "source": [
        "knn = KNeighborsClassifier(n_neighbors=4)"
      ],
      "metadata": {
        "id": "_EZdnVGTSCRc"
      },
      "execution_count": 114,
      "outputs": []
    },
    {
      "cell_type": "code",
      "source": [
        "knn.fit(X_train, y_train)\n",
        "y_pred_KNeighborsClassifier = knn.predict(X_test)"
      ],
      "metadata": {
        "id": "RGC7CtlsUAJb"
      },
      "execution_count": 118,
      "outputs": []
    },
    {
      "cell_type": "code",
      "source": [
        "# OR\n",
        "def knn_alg(X_train, y_train, X_test, y_test, N):\n",
        "    knn = KNeighborsClassifier(n_neighbors=4)\n",
        "    knn.fit(X_train, y_train)\n",
        "\n",
        "    try:\n",
        "        y_pred_KNeighborsClassifier = knn.predict(X_test)\n",
        "    except NotFittedError as e:\n",
        "        print(repr(e))"
      ],
      "metadata": {
        "id": "lGNPMJVzU344"
      },
      "execution_count": 119,
      "outputs": []
    },
    {
      "cell_type": "code",
      "source": [
        "scores = []\n",
        "cv_scores = []"
      ],
      "metadata": {
        "id": "2cqTpwOuVNbv"
      },
      "execution_count": 120,
      "outputs": []
    },
    {
      "cell_type": "code",
      "source": [
        "score = accuracy_score(y_pred_KNeighborsClassifier, y_test)\n",
        "scores.append(score)"
      ],
      "metadata": {
        "id": "xzjkmTxMVog1"
      },
      "execution_count": 121,
      "outputs": []
    },
    {
      "cell_type": "code",
      "source": [
        "score_knn=cross_val_score(knn, X,y, cv=10)"
      ],
      "metadata": {
        "colab": {
          "base_uri": "https://localhost:8080/"
        },
        "id": "Ix94kyo_WSVB",
        "outputId": "cbf4ef7c-64f9-42e0-9b27-a2cffe366dff"
      },
      "execution_count": 122,
      "outputs": [
        {
          "output_type": "stream",
          "name": "stderr",
          "text": [
            "/usr/local/lib/python3.7/dist-packages/sklearn/model_selection/_split.py:680: UserWarning: The least populated class in y has only 9 members, which is less than n_splits=10.\n",
            "  UserWarning,\n"
          ]
        }
      ]
    },
    {
      "cell_type": "code",
      "source": [
        "score_knn.mean()"
      ],
      "metadata": {
        "colab": {
          "base_uri": "https://localhost:8080/"
        },
        "id": "lxa5scKUWUkU",
        "outputId": "c7201fa6-797e-46da-fa82-140c82aed453"
      },
      "execution_count": 123,
      "outputs": [
        {
          "output_type": "execute_result",
          "data": {
            "text/plain": [
              "0.6454545454545455"
            ]
          },
          "metadata": {},
          "execution_count": 123
        }
      ]
    },
    {
      "cell_type": "code",
      "source": [
        "score_knn.std()*2"
      ],
      "metadata": {
        "colab": {
          "base_uri": "https://localhost:8080/"
        },
        "id": "DYau7am8WXXW",
        "outputId": "6c7fa530-b2cd-40f3-abc3-5cf65770b0f4"
      },
      "execution_count": 124,
      "outputs": [
        {
          "output_type": "execute_result",
          "data": {
            "text/plain": [
              "0.2498461886992347"
            ]
          },
          "metadata": {},
          "execution_count": 124
        }
      ]
    },
    {
      "cell_type": "code",
      "source": [
        "cv_score = score_knn.mean()"
      ],
      "metadata": {
        "id": "C-o5TVKVWoqM"
      },
      "execution_count": 125,
      "outputs": []
    },
    {
      "cell_type": "code",
      "source": [
        "cv_scores.append(cv_score)"
      ],
      "metadata": {
        "id": "5627k4WNYoCi"
      },
      "execution_count": 126,
      "outputs": []
    },
    {
      "cell_type": "code",
      "source": [
        "cv_scores"
      ],
      "metadata": {
        "colab": {
          "base_uri": "https://localhost:8080/"
        },
        "id": "XdPNDYVGYq3-",
        "outputId": "71c65ca0-28b8-46f0-ce44-3427e4e09486"
      },
      "execution_count": 104,
      "outputs": [
        {
          "output_type": "execute_result",
          "data": {
            "text/plain": [
              "[0.6454545454545455]"
            ]
          },
          "metadata": {},
          "execution_count": 104
        }
      ]
    },
    {
      "cell_type": "markdown",
      "source": [
        "Hence, the accuracy of the model is Accuracy: 0.6454 or 64.54% ."
      ],
      "metadata": {
        "id": "O98F4sugpIUk"
      }
    },
    {
      "cell_type": "code",
      "source": [],
      "metadata": {
        "id": "CD2gVaz3Zhij"
      },
      "execution_count": null,
      "outputs": []
    }
  ]
}